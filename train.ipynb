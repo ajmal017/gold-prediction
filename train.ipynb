{
  "cells": [
    {
      "cell_type": "code",
      "execution_count": null,
      "outputs": [],
      "source": "\nimport os\n\nimport math\nimport matplotlib.pyplot as plt\nimport numpy as np\nimport pandas as pd\nfrom IPython.display import display\n\nfrom core.live_data_processor import LiveDataLoader\nfrom core.model import Model",
      "metadata": {
        "pycharm": {
          "metadata": false,
          "name": "#%%\n"
        }
      }
    },
    {
      "cell_type": "code",
      "execution_count": null,
      "outputs": [],
      "source": "",
      "metadata": {
        "pycharm": {
          "metadata": false,
          "name": "#%%\n"
        }
      }
    },
    {
      "cell_type": "code",
      "execution_count": null,
      "outputs": [],
      "source": "if __name__ \u003d\u003d \u0027__main__\u0027:\n    if not os.path.exists(\u0027model\u0027): os.makedirs(\u0027model\u0027)\n    #  Setting pyplot fig size\n    plt.rcParams[\u0027figure.figsize\u0027] \u003d [10, 8]    \n    # Download gold price from yahoo finance\n    # gld_dataframe \u003d yf.download(tickers\u003d\"GLD\", start\u003d\"2000-1-1\")\n    # Display sample dataframe\n    # display(gld_dataframe.head(5))\n    # display(gld_dataframe.tail(5))",
      "metadata": {
        "pycharm": {
          "metadata": false,
          "name": "#%%\n"
        }
      }
    },
    {
      "cell_type": "code",
      "execution_count": null,
      "outputs": [],
      "source": "\n    data \u003d LiveDataLoader(\n        filename\u003dos.path.join(\u0027data\u0027, \u0027gld.csv\u0027),\n        split\u003d0.8,\n        cols\u003d[\u0027Open\u0027, \u0027Close\u0027, \u0027Volume\u0027]\n    )\n    x, y \u003d data.get_train_data(30, True)\n    display_x_train \u003d np.reshape(x, (-1, 3))\n    display(pd.DataFrame(display_x_train).head(5))\n    display_y_train \u003d np.reshape(y, (-1, 1))\n    display(pd.DataFrame(display_y_train).head(5))",
      "metadata": {
        "pycharm": {
          "metadata": false,
          "name": "#%%\n"
        }
      }
    },
    {
      "cell_type": "code",
      "execution_count": null,
      "outputs": [],
      "source": "    model \u003d Model()\n    model.build_model()\n    model.model.summary()",
      "metadata": {
        "pycharm": {
          "metadata": false,
          "name": "#%%\n"
        }
      }
    },
    {
      "cell_type": "code",
      "execution_count": null,
      "outputs": [],
      "source": "    \u0027\u0027\u0027\n\t# in-memory training\n\tmodel.train(\n\t\tx,\n\t\ty,\n\t\tepochs \u003d configs[\u0027training\u0027][\u0027epochs\u0027],\n\t\tbatch_size \u003d configs[\u0027training\u0027][\u0027batch_size\u0027],\n\t\tsave_dir \u003d configs[\u0027model\u0027][\u0027save_dir\u0027]\n\t)\n\t\u0027\u0027\u0027\n    # out-of memory generative training\n    steps_per_epoch \u003d math.ceil(((data.len_train - 30) / 32))\n    model.train_generator(\n        data_gen\u003ddata.generate_train_batch(\n            seq_len\u003d30,\n            batch_size\u003d32,\n            normalise\u003dTrue\n        ),\n        epochs\u003d5,\n        batch_size\u003d32,\n        steps_per_epoch\u003dsteps_per_epoch,\n        save_file_name\u003d\u0027model.h5\u0027\n    )    ",
      "metadata": {
        "pycharm": {
          "metadata": false,
          "name": "#%%\n"
        }
      }
    }
  ],
  "metadata": {
    "kernelspec": {
      "display_name": "Python 3",
      "language": "python",
      "name": "python3"
    },
    "language_info": {
      "codemirror_mode": {
        "name": "ipython",
        "version": 3
      },
      "file_extension": ".py",
      "mimetype": "text/x-python",
      "name": "python",
      "nbconvert_exporter": "python",
      "pygments_lexer": "ipython3",
      "version": "3.6.8"
    },
    "stem_cell": {
      "cell_type": "raw",
      "source": "",
      "metadata": {
        "pycharm": {
          "metadata": false
        }
      }
    }
  },
  "nbformat": 4,
  "nbformat_minor": 2
}