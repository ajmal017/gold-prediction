{
 "cells": [
  {
   "cell_type": "code",
   "execution_count": 1,
   "metadata": {
    "pycharm": {
     "metadata": false,
     "name": "#%%\n"
    }
   },
   "outputs": [
    {
     "name": "stderr",
     "output_type": "stream",
     "text": [
      "Using TensorFlow backend.\n"
     ]
    }
   ],
   "source": [
    "import os\n",
    "\n",
    "import math\n",
    "import matplotlib.pyplot as plt\n",
    "import numpy as np\n",
    "import pandas as pd\n",
    "from IPython.display import display\n",
    "\n",
    "from core.live_data_processor import LiveDataLoader\n",
    "from core.model import Model"
   ]
  },
  {
   "cell_type": "code",
   "execution_count": null,
   "metadata": {
    "pycharm": {
     "metadata": false,
     "name": "#%%\n"
    }
   },
   "outputs": [],
   "source": []
  },
  {
   "cell_type": "code",
   "execution_count": 2,
   "metadata": {
    "pycharm": {
     "metadata": false,
     "name": "#%%\n"
    }
   },
   "outputs": [],
   "source": [
    "if __name__ == '__main__':\n",
    "    if not os.path.exists('model'): os.makedirs('model')\n",
    "    #  Setting pyplot fig size\n",
    "    plt.rcParams['figure.figsize'] = [10, 8]    \n",
    "    # Download gold price from yahoo finance\n",
    "    # gld_dataframe = yf.download(tickers=\"GLD\", start=\"2000-1-1\")\n",
    "    # Display sample dataframe\n",
    "    # display(gld_dataframe.head(5))\n",
    "    # display(gld_dataframe.tail(5))"
   ]
  },
  {
   "cell_type": "code",
   "execution_count": 3,
   "metadata": {
    "pycharm": {
     "metadata": false,
     "name": "#%%\n"
    }
   },
   "outputs": [
    {
     "data": {
      "text/html": [
       "<div>\n",
       "<style scoped>\n",
       "    .dataframe tbody tr th:only-of-type {\n",
       "        vertical-align: middle;\n",
       "    }\n",
       "\n",
       "    .dataframe tbody tr th {\n",
       "        vertical-align: top;\n",
       "    }\n",
       "\n",
       "    .dataframe thead th {\n",
       "        text-align: right;\n",
       "    }\n",
       "</style>\n",
       "<table border=\"1\" class=\"dataframe\">\n",
       "  <thead>\n",
       "    <tr style=\"text-align: right;\">\n",
       "      <th></th>\n",
       "      <th>0</th>\n",
       "      <th>1</th>\n",
       "      <th>2</th>\n",
       "    </tr>\n",
       "  </thead>\n",
       "  <tbody>\n",
       "    <tr>\n",
       "      <th>0</th>\n",
       "      <td>0.000000</td>\n",
       "      <td>0.000000</td>\n",
       "      <td>0.000000</td>\n",
       "    </tr>\n",
       "    <tr>\n",
       "      <th>1</th>\n",
       "      <td>0.001350</td>\n",
       "      <td>0.009013</td>\n",
       "      <td>0.945144</td>\n",
       "    </tr>\n",
       "    <tr>\n",
       "      <th>2</th>\n",
       "      <td>0.007202</td>\n",
       "      <td>0.012844</td>\n",
       "      <td>1.002003</td>\n",
       "    </tr>\n",
       "    <tr>\n",
       "      <th>3</th>\n",
       "      <td>0.010128</td>\n",
       "      <td>0.008337</td>\n",
       "      <td>-0.471095</td>\n",
       "    </tr>\n",
       "    <tr>\n",
       "      <th>4</th>\n",
       "      <td>0.011254</td>\n",
       "      <td>0.015097</td>\n",
       "      <td>0.018875</td>\n",
       "    </tr>\n",
       "  </tbody>\n",
       "</table>\n",
       "</div>"
      ],
      "text/plain": [
       "          0         1         2\n",
       "0  0.000000  0.000000  0.000000\n",
       "1  0.001350  0.009013  0.945144\n",
       "2  0.007202  0.012844  1.002003\n",
       "3  0.010128  0.008337 -0.471095\n",
       "4  0.011254  0.015097  0.018875"
      ]
     },
     "metadata": {},
     "output_type": "display_data"
    },
    {
     "data": {
      "text/html": [
       "<div>\n",
       "<style scoped>\n",
       "    .dataframe tbody tr th:only-of-type {\n",
       "        vertical-align: middle;\n",
       "    }\n",
       "\n",
       "    .dataframe tbody tr th {\n",
       "        vertical-align: top;\n",
       "    }\n",
       "\n",
       "    .dataframe thead th {\n",
       "        text-align: right;\n",
       "    }\n",
       "</style>\n",
       "<table border=\"1\" class=\"dataframe\">\n",
       "  <thead>\n",
       "    <tr style=\"text-align: right;\">\n",
       "      <th></th>\n",
       "      <th>0</th>\n",
       "    </tr>\n",
       "  </thead>\n",
       "  <tbody>\n",
       "    <tr>\n",
       "      <th>0</th>\n",
       "      <td>-0.013054</td>\n",
       "    </tr>\n",
       "    <tr>\n",
       "      <th>1</th>\n",
       "      <td>-0.033940</td>\n",
       "    </tr>\n",
       "    <tr>\n",
       "      <th>2</th>\n",
       "      <td>-0.043575</td>\n",
       "    </tr>\n",
       "    <tr>\n",
       "      <th>3</th>\n",
       "      <td>-0.047460</td>\n",
       "    </tr>\n",
       "    <tr>\n",
       "      <th>4</th>\n",
       "      <td>-0.054529</td>\n",
       "    </tr>\n",
       "  </tbody>\n",
       "</table>\n",
       "</div>"
      ],
      "text/plain": [
       "          0\n",
       "0 -0.013054\n",
       "1 -0.033940\n",
       "2 -0.043575\n",
       "3 -0.047460\n",
       "4 -0.054529"
      ]
     },
     "metadata": {},
     "output_type": "display_data"
    }
   ],
   "source": [
    "    data = LiveDataLoader(\n",
    "        filename=os.path.join('data', 'gld.csv'),\n",
    "        split=0.8,\n",
    "        cols=['Open', 'Close', 'Volume']\n",
    "    )\n",
    "    x, y = data.get_train_data(30, True)\n",
    "    display_x_train = np.reshape(x, (-1, 3))\n",
    "    display(pd.DataFrame(display_x_train).head(5))\n",
    "    display_y_train = np.reshape(y, (-1, 1))\n",
    "    display(pd.DataFrame(display_y_train).head(5))"
   ]
  },
  {
   "cell_type": "code",
   "execution_count": 4,
   "metadata": {
    "pycharm": {
     "metadata": false,
     "name": "#%%\n"
    }
   },
   "outputs": [
    {
     "name": "stdout",
     "output_type": "stream",
     "text": [
      "WARNING:tensorflow:From C:\\Users\\WozZz\\Miniconda3\\envs\\tfs\\lib\\site-packages\\tensorflow\\python\\framework\\op_def_library.py:263: colocate_with (from tensorflow.python.framework.ops) is deprecated and will be removed in a future version.\n",
      "Instructions for updating:\n",
      "Colocations handled automatically by placer.\n",
      "WARNING:tensorflow:From C:\\Users\\WozZz\\Miniconda3\\envs\\tfs\\lib\\site-packages\\keras\\backend\\tensorflow_backend.py:3445: calling dropout (from tensorflow.python.ops.nn_ops) with keep_prob is deprecated and will be removed in a future version.\n",
      "Instructions for updating:\n",
      "Please use `rate` instead of `keep_prob`. Rate should be set to `rate = 1 - keep_prob`.\n",
      "[Model] Model Compiled\n",
      "Time taken: 0:00:02.149951\n",
      "_________________________________________________________________\n",
      "Layer (type)                 Output Shape              Param #   \n",
      "=================================================================\n",
      "lstm_1 (LSTM)                (None, 29, 100)           41600     \n",
      "_________________________________________________________________\n",
      "dropout_1 (Dropout)          (None, 29, 100)           0         \n",
      "_________________________________________________________________\n",
      "lstm_2 (LSTM)                (None, 100)               80400     \n",
      "_________________________________________________________________\n",
      "dropout_2 (Dropout)          (None, 100)               0         \n",
      "_________________________________________________________________\n",
      "dense_1 (Dense)              (None, 1)                 101       \n",
      "=================================================================\n",
      "Total params: 122,101\n",
      "Trainable params: 122,101\n",
      "Non-trainable params: 0\n",
      "_________________________________________________________________\n"
     ]
    }
   ],
   "source": [
    "    model = Model()\n",
    "    model.build_model()\n",
    "    model.model.summary()"
   ]
  },
  {
   "cell_type": "code",
   "execution_count": 5,
   "metadata": {
    "pycharm": {
     "metadata": false,
     "name": "#%%\n"
    }
   },
   "outputs": [
    {
     "name": "stdout",
     "output_type": "stream",
     "text": [
      "[Model] Training Started\n",
      "[Model] 5 epochs, 32 batch size, 29 batches per epoch\n",
      "WARNING:tensorflow:From C:\\Users\\WozZz\\Miniconda3\\envs\\tfs\\lib\\site-packages\\tensorflow\\python\\ops\\math_ops.py:3066: to_int32 (from tensorflow.python.ops.math_ops) is deprecated and will be removed in a future version.\n",
      "Instructions for updating:\n",
      "Use tf.cast instead.\n",
      "Epoch 1/5\n",
      "29/29 [==============================] - 9s 309ms/step - loss: 0.0337\n",
      "Epoch 2/5\n",
      "29/29 [==============================] - 5s 159ms/step - loss: 0.0204\n",
      "Epoch 3/5\n",
      "29/29 [==============================] - 6s 200ms/step - loss: 0.0177\n",
      "Epoch 4/5\n",
      "29/29 [==============================] - 5s 161ms/step - loss: 0.0169\n",
      "Epoch 5/5\n",
      "29/29 [==============================] - 5s 160ms/step - loss: 0.0162\n",
      "[Model] Training Completed. Model saved as model\\model.h5\n",
      "Time taken: 0:00:32.506523\n"
     ]
    }
   ],
   "source": [
    "    '''\n",
    "\t# in-memory training\n",
    "\tmodel.train(\n",
    "\t\tx,\n",
    "\t\ty,\n",
    "\t\tepochs = configs['training']['epochs'],\n",
    "\t\tbatch_size = configs['training']['batch_size'],\n",
    "\t\tsave_dir = configs['model']['save_dir']\n",
    "\t)\n",
    "\t'''\n",
    "    # out-of memory generative training\n",
    "    steps_per_epoch = math.ceil(((data.len_train - 30) / 100))\n",
    "    model.train_generator(\n",
    "        data_gen=data.generate_train_batch(\n",
    "            seq_len=30,\n",
    "            batch_size=100,\n",
    "            normalise=True\n",
    "        ),\n",
    "        epochs=5,\n",
    "        batch_size=32,\n",
    "        steps_per_epoch=steps_per_epoch,\n",
    "        save_file_name='model.h5'\n",
    "    )    "
   ]
  }
 ],
 "metadata": {
  "kernelspec": {
   "display_name": "Python 3",
   "language": "python",
   "name": "python3"
  },
  "language_info": {
   "codemirror_mode": {
    "name": "ipython",
    "version": 3
   },
   "file_extension": ".py",
   "mimetype": "text/x-python",
   "name": "python",
   "nbconvert_exporter": "python",
   "pygments_lexer": "ipython3",
   "version": "3.7.3"
  },
  "stem_cell": {
   "cell_type": "raw",
   "metadata": {
    "pycharm": {
     "metadata": false
    }
   },
   "source": ""
  }
 },
 "nbformat": 4,
 "nbformat_minor": 2
}
